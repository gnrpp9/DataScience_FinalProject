{
 "cells": [
  {
   "cell_type": "code",
   "execution_count": null,
   "metadata": {
    "collapsed": false
   },
   "outputs": [],
   "source": [
    "#!/usr/bin/python\n",
    "# -*- coding: utf-8 -*-\n",
    "import MySQLdb as mdb\n",
    "import sys\n",
    "try:\n",
    "    con = mdb.connect('128.206.116.195', 'tg4_ro', '?3stEt7!3hUbRa-R', 'tw4_db');\n",
    "    cur = con.cursor()\n",
    "    cur.execute(\"SELECT VERSION()\")\n",
    "    ver = cur.fetchone()\n",
    "    \n",
    "    print (\"Database version : %s \" % ver)\n",
    "    \n",
    "except mdb.Error as e:\n",
    "  \n",
    "    print (\"Error %d: %s\" % (e.args[0],e.args[1]))\n",
    "    sys.exit(1)\n",
    "    \n",
    "finally:    \n",
    "        \n",
    "    if con:    \n",
    "        con.close()"
   ]
  },
  {
   "cell_type": "code",
   "execution_count": null,
   "metadata": {
    "collapsed": false
   },
   "outputs": [
    {
     "name": "stdout",
     "output_type": "stream",
     "text": [
      "Number of Tweets in Weather Data Set:  151648\n",
      "Number of Tweets in Superbowl:  3290086\n",
      "Number of Tweets in Tea Party:  3536250\n",
      "Number of Tweets in World Series:  2525687\n",
      "Date Tweets Started:"
     ]
    }
   ],
   "source": [
    "import MySQLdb as mdb\n",
    "import sys\n",
    "import csv\n",
    "\n",
    "try:\n",
    "    con = mdb.connect('128.206.116.195', 'tg4_ro', '?3stEt7!3hUbRa-R', 'tw4_db');\n",
    "\n",
    "    cur = con.cursor()\n",
    "\n",
    "    totTweetQuery = \"SELECT created_at, from_user, from_user_followers, text from tweet where job_id=1160\"\n",
    "    cur.execute(totTweetQuery)\n",
    "    print (\"Number of Tweets in Weather Data Set: \", cur.rowcount)\n",
    "\n",
    "    with open('tweets.csv', 'w', newline='') as file:\n",
    "        writer = csv.writer(file, delimiter = ',')\n",
    "        writer.writerow(['created_at', 'from_user', 'from_user_followers', 'text'])\n",
    "        for row in cur:\n",
    "            writer.writerow([row[0], row[1], row[2], row[3]])\n",
    "\n",
    "    totTweetQuery = \"SELECT created_at, from_user, from_user_followers, text from tweet where job_id=187\"\n",
    "    cur.execute(totTweetQuery)\n",
    "    print (\"Number of Tweets in Superbowl: \", cur.rowcount)\n",
    "\n",
    "    totTweetQuery = \"SELECT created_at, from_user, from_user_followers, text from tweet where job_id=2572\"\n",
    "    cur.execute(totTweetQuery)\n",
    "    print (\"Number of Tweets in Tea Party: \", cur.rowcount)\n",
    "\n",
    "    totTweetQuery = \"SELECT created_at, from_user, from_user_followers, text from tweet where job_id=2577\"\n",
    "    cur.execute(totTweetQuery)\n",
    "    print (\"Number of Tweets in World Series: \", cur.rowcount)\n",
    "\n",
    "    minDateQuery = \"Select MIN(created_at) FROM tweet WHERE job_id=1160\"\n",
    "    cur.execute(minDateQuery)\n",
    "    for row in cur:\n",
    "        print (\"Date Tweets Started:\", row[0])\n",
    "    \n",
    "    maxDateQuery = \"Select MAX(created_at) FROM tweet WHERE job_id=1160\"\n",
    "    cur.execute(maxDateQuery)\n",
    "    for row in cur:\n",
    "        print (\"Date Tweets Ended:\", row[0])\n",
    "\n",
    "    \"\"\" Tried creating a csv for the superbowl data set but the size was to large (over 3 million tweets) and took too long\n",
    "    totTweetQuery = \"SELECT created_at, from_user, from_user_followers, text from tweet where job_id=187\"\n",
    "    cur.execute(totTweetQuery)\n",
    "    print (\"Number of Rows Returned: \", cur.rowcount)\n",
    "\n",
    "    with open('tweets.csv', 'w', newline='') as file:\n",
    "        writer = csv.writer(file, delimiter = ',')\n",
    "        writer.writerow(['created_at', 'from_user', 'from_user_followers', 'text'])\n",
    "        for row in cur:\n",
    "            writer.writerow([row[0], row[1], row[2], row[3]])\"\"\"\n",
    "    print (\"Finished\")\n",
    "\n",
    "except mdb.Error as e:\n",
    "\n",
    "    print (\"Error %d: %s\" % (e.args[0],e.args[1]))\n",
    "    sys.exit(1)\n",
    "\n",
    "finally:\n",
    "    if con:\n",
    "        con.close()\n"
   ]
  },
  {
   "cell_type": "code",
   "execution_count": null,
   "metadata": {
    "collapsed": true
   },
   "outputs": [],
   "source": []
  }
 ],
 "metadata": {
  "kernelspec": {
   "display_name": "Python 3",
   "language": "python",
   "name": "python3"
  },
  "language_info": {
   "codemirror_mode": {
    "name": "ipython",
    "version": 3
   },
   "file_extension": ".py",
   "mimetype": "text/x-python",
   "name": "python",
   "nbconvert_exporter": "python",
   "pygments_lexer": "ipython3",
   "version": "3.4.3"
  }
 },
 "nbformat": 4,
 "nbformat_minor": 0
}
